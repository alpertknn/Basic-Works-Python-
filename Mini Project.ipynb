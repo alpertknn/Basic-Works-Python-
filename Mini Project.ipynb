{
 "cells": [
  {
   "cell_type": "code",
   "execution_count": 1,
   "metadata": {},
   "outputs": [],
   "source": [
    "import numpy as np\n",
    "import matplotlib.pyplot as plt\n",
    "import random\n",
    "import pandas as pd \n",
    "from sklearn.tree import DecisionTreeClassifier\n"
   ]
  },
  {
   "cell_type": "code",
   "execution_count": 18,
   "metadata": {},
   "outputs": [
    {
     "name": "stdout",
     "output_type": "stream",
     "text": [
      "Number of rows: 42000\n",
      "Number of columns 785\n",
      "The accuracy of prediction is: 83.92%\n",
      "The number could be: [6]\n"
     ]
    },
    {
     "data": {
      "image/png": "[encoded data removed]",
      "text/plain": [
       "<Figure size 432x288 with 1 Axes>"
      ]
     },
     "metadata": {
      "needs_background": "light"
     },
     "output_type": "display_data"
    }
   ],
   "source": [
    "#--------------------------------------------------------\n",
    "def accuracy(xtest,actuallabel):\n",
    "    prediction=obj.predict(xtest)\n",
    "    count=0\n",
    "    for i in range(0,21000):\n",
    "        if prediction[i]==actuallabel[i]:\n",
    "        \n",
    "            count+=1 \n",
    "        else:\n",
    "            count+=0\n",
    "    print(\"The accuracy of prediction is:\",format((count/21000)*100,\".2f\")+\"%\")\n",
    "#----------------------------------------------------------\n",
    "def plotting(xtest):\n",
    "    rnumber=random.randint(0,21000)\n",
    "    d=xtest[rnumber]\n",
    "    d.shape=(28,28)\n",
    "    plt.imshow(255-d,cmap=\"gray\")\n",
    "    print(\"The number could be:\",obj.predict([xtest[rnumber]]))\n",
    "    plt.show()\n",
    "\n",
    "#----------------------------------------------------------\n",
    "\n",
    "\n",
    "df=pd.read_csv(\"sample_data.csv\").to_numpy()\n",
    "obj=DecisionTreeClassifier()\n",
    "\n",
    "#Training Df\n",
    "xtrain=df[0:21000,1:]\n",
    "train_label=df[0:21000,0]\n",
    "obj=obj.fit(xtrain,train_label)\n",
    "\n",
    "#Testing\n",
    "xtest=df[21000:,1:]\n",
    "actuallabel=df[21000:,0]\n",
    "x,y=df.shape\n",
    "print(\"Number of rows:\",x)\n",
    "print(\"Number of columns\",y)\n",
    "#This function gives us the accuracy of our prediction\n",
    "accuracy(xtest,actuallabel)\n",
    "\n",
    "#This is example of basic predicting seeing picture and prediction  \n",
    "plotting(xtest)\n",
    "\n",
    "\n",
    "\n"
   ]
  },
  {
   "cell_type": "code",
   "execution_count": null,
   "metadata": {},
   "outputs": [],
   "source": []
  }
 ],
 "metadata": {
  "kernelspec": {
   "display_name": "Python 3",
   "language": "python",
   "name": "python3"
  },
  "language_info": {
   "codemirror_mode": {
    "name": "ipython",
    "version": 3
   },
   "file_extension": ".py",
   "mimetype": "text/x-python",
   "name": "python",
   "nbconvert_exporter": "python",
   "pygments_lexer": "ipython3",
   "version": "3.8.3"
  }
 },
 "nbformat": 4,
 "nbformat_minor": 4
}
